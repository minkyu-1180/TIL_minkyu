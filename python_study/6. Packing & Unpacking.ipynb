{
 "cells": [
  {
   "cell_type": "markdown",
   "id": "8166442a-d34e-4780-b0ce-3515e9227cd4",
   "metadata": {},
   "source": [
    "# Packing & Unpacking\n",
    "\n",
    "# 목차\n",
    "## 1. Packing\n",
    "## 2. Unpacking\n",
    "## \n",
    "## \n",
    "## \n",
    "##\n",
    "## \n",
    "## \n",
    "## "
   ]
  },
  {
   "cell_type": "markdown",
   "id": "1b6fbc28-00e5-43a6-bf58-bfe7c8f388f4",
   "metadata": {},
   "source": []
  },
  {
   "cell_type": "markdown",
   "id": "7be53d1d-6fd7-487f-a3b5-050e30e607ea",
   "metadata": {},
   "source": []
  },
  {
   "cell_type": "markdown",
   "id": "2d9176c8-1773-4ab5-8c3d-c33b214c2102",
   "metadata": {},
   "source": [
    "### \n",
    "1. Packing\n",
    "\n",
    "### Packing\n",
    "여러 개의 값을 하나의 변수에 묶어서 담는 것\n",
    "- 변수에 담긴 값들은 튜플 형태로 묶이게 된다\n",
    "\n",
    "### *를 활용한 패킹\n",
    "*를 활용할 경우, 남은 요소들을 리스트로 패킹하여 해당 변수에 할당한다.\n",
    "\n",
    "### print()\n",
    "print()함수에 임의의 가변 인자를 작성할 수 있었던 이유\n",
    "- objects : 임의의 인자 목록\n",
    "- sep = ' ', end = '\\n'을 기본 인자값으로 할당\n",
    "![image](https://github.com/ragu6963/TIL/assets/32388270/05db04bd-d01c-4f4c-a193-854e59385d67)\n"
   ]
  },
  {
   "cell_type": "code",
   "execution_count": 2,
   "id": "66801f29-3ffc-46bd-819c-e9950e27a138",
   "metadata": {},
   "outputs": [
    {
     "name": "stdout",
     "output_type": "stream",
     "text": [
      "(1, 2, 3, 4, 5)\n",
      "\n",
      "1\n",
      "2\n",
      "[3, 4, 5, 6]\n",
      "7\n"
     ]
    }
   ],
   "source": [
    "# Packing 예제\n",
    "packing_var = 1, 2, 3, 4, 5\n",
    "print(packing_var)\n",
    "print()\n",
    "list_1 = [1, 2, 3, 4, 5, 6, 7]\n",
    "# a, b, d에 각각 하나의 원소를 할당하고, 남은 값들은 리스트로 묶어서 c에 할당한다\n",
    "a, b, *c, d = list_1\n",
    "print(a)\n",
    "print(b)\n",
    "print(c)\n",
    "print(d)"
   ]
  },
  {
   "cell_type": "markdown",
   "id": "e31ed4c4-5378-4ccb-bd1e-ff5de839df8c",
   "metadata": {},
   "source": [
    "### 2. Unpacking\n",
    "\n",
    "### Unpacking\n",
    "패킹된 변수의 값을 개별적인 변수로 분리하여 할당하는 것\n",
    "\n",
    "### '*'와 '**'를 활용한 언패킹\n",
    "- *리스트 : 리스트의 요소들을 언패킹\n",
    "- **딕셔너리 : 딕셔너리의 키-값 쌍을 함수의 키워드 인자로 언패"
   ]
  },
  {
   "cell_type": "code",
   "execution_count": 9,
   "id": "9eed031f-423c-4eeb-a057-82f32bb0bdd7",
   "metadata": {},
   "outputs": [
    {
     "name": "stdout",
     "output_type": "stream",
     "text": [
      "1 2 3\n",
      "kim lee park\n",
      "1 2 3\n"
     ]
    }
   ],
   "source": [
    "# 언패킹 예제\n",
    "\n",
    "numbers = 1, 2, 3\n",
    "a, b, c = numbers\n",
    "print(a, b, c)\n",
    "\n",
    "names = ['kim', 'lee', 'park']\n",
    "print(*names)\n",
    "\n",
    "def my_func(x, y, z):\n",
    "    print(x, y, z)\n",
    "\n",
    "my_dict = {'x' : 1,\n",
    "           'y' : 2,\n",
    "           'z' : 3}\n",
    "\n",
    "my_func(**my_dict) # **를 활용하여 딕셔너리의 key값에 대응하는 value들을 각각 출력"
   ]
  },
  {
   "cell_type": "markdown",
   "id": "7a6e8fd0-b818-45c1-8203-9806cf23a343",
   "metadata": {},
   "source": [
    "### 팩킹 / 언팩킹 정리\n",
    "\n",
    "'*' \n",
    "- 팩킹 연산자로 사용시, 여러개의 인자를 하나의 튜플로 묶는 역할\n",
    "- 언팩킹 연산자로 사용시, iter 객체의 각 요소들을 언패킹하여 함수의 인자로 전달\n",
    "\n",
    "'**'\n",
    "- 언팩킹 연산자로 사용될 때, 딕셔너리의 키-값 쌍을 키워드 인자로 언패킹하여 함수의 인자로 전달"
   ]
  },
  {
   "cell_type": "markdown",
   "id": "0842b82a-e418-4eea-9343-c546cae5c4a8",
   "metadata": {},
   "source": []
  },
  {
   "cell_type": "markdown",
   "id": "df062891-7369-421c-b24a-47b8975ca794",
   "metadata": {},
   "source": []
  },
  {
   "cell_type": "markdown",
   "id": "eed44c72-e3c7-4731-aeac-ffdd8be166d6",
   "metadata": {},
   "source": []
  },
  {
   "cell_type": "markdown",
   "id": "e63abb22-7bbd-49cc-b914-e3775288ae87",
   "metadata": {},
   "source": []
  },
  {
   "cell_type": "markdown",
   "id": "4cd3f333-cb31-43e1-8518-6b63d688ca07",
   "metadata": {},
   "source": []
  },
  {
   "cell_type": "markdown",
   "id": "86e91296-b7f2-40d6-b99c-a891b311f516",
   "metadata": {},
   "source": []
  },
  {
   "cell_type": "markdown",
   "id": "5a6482f0-67cd-4fe9-837c-dc28641bf308",
   "metadata": {},
   "source": []
  },
  {
   "cell_type": "markdown",
   "id": "cf144030-06ac-418e-8365-f9af980f4844",
   "metadata": {},
   "source": []
  },
  {
   "cell_type": "markdown",
   "id": "9d9f903f-7e1a-4d13-9aa5-3c817f0ad364",
   "metadata": {},
   "source": []
  },
  {
   "cell_type": "markdown",
   "id": "ade2e8a9-6e6c-4c3a-a5c7-eb27e03cfad1",
   "metadata": {},
   "source": []
  },
  {
   "cell_type": "markdown",
   "id": "435def97-6a14-4772-bd1f-44a885c385dc",
   "metadata": {},
   "source": []
  },
  {
   "cell_type": "markdown",
   "id": "d1c051df-5a4c-47e7-adc5-7986497a470c",
   "metadata": {},
   "source": []
  },
  {
   "cell_type": "markdown",
   "id": "c86461b7-3f1e-4c9d-8818-2ab7fd12e88a",
   "metadata": {},
   "source": []
  },
  {
   "cell_type": "markdown",
   "id": "77cf2a90-108d-4375-96b7-e6094185cdf7",
   "metadata": {},
   "source": []
  },
  {
   "cell_type": "markdown",
   "id": "dbeee1bf-3757-490d-8ab3-b7ea08390a38",
   "metadata": {},
   "source": []
  },
  {
   "cell_type": "markdown",
   "id": "b3b4ecba-77b1-4da9-8175-d7bdd1fd3978",
   "metadata": {},
   "source": []
  },
  {
   "cell_type": "markdown",
   "id": "b45e4077-d4ba-48c7-9329-756653bebfc1",
   "metadata": {},
   "source": []
  },
  {
   "cell_type": "code",
   "execution_count": null,
   "id": "75465f96-d4d2-4ab7-be5e-d2a8afce5e33",
   "metadata": {},
   "outputs": [],
   "source": []
  }
 ],
 "metadata": {
  "kernelspec": {
   "display_name": "Python 3 (ipykernel)",
   "language": "python",
   "name": "python3"
  },
  "language_info": {
   "codemirror_mode": {
    "name": "ipython",
    "version": 3
   },
   "file_extension": ".py",
   "mimetype": "text/x-python",
   "name": "python",
   "nbconvert_exporter": "python",
   "pygments_lexer": "ipython3",
   "version": "3.11.4"
  }
 },
 "nbformat": 4,
 "nbformat_minor": 5
}
