{
 "cells": [
  {
   "cell_type": "markdown",
   "id": "e1ac44db-5a86-4399-a1d8-333d2e713830",
   "metadata": {},
   "source": [
    "# Data Types\n",
    "\n",
    "# 목차\n",
    "\n",
    "## 1. Data Types\n",
    "## 2. Numeric Types\n",
    "## 3. Sequence Type\n",
    "## 4. Non-Sequence Types\n",
    "## 5. Other Types\n",
    "## 6. Collection\n",
    "## 7. Type Conversion\n",
    "## 8. 연산자"
   ]
  },
  {
   "cell_type": "code",
   "execution_count": null,
   "id": "007cd3ea-6b19-4b11-843f-0a97d1f1685e",
   "metadata": {},
   "outputs": [],
   "source": []
  },
  {
   "cell_type": "markdown",
   "id": "f4491119-763c-41a0-8591-42e5fd22c7c9",
   "metadata": {},
   "source": [
    "## 1. Data Types"
   ]
  },
  {
   "cell_type": "markdown",
   "id": "8c9967c4-39c7-4d44-a456-28214420db11",
   "metadata": {},
   "source": [
    "### Data type \n",
    "값의 종류와 그 값에 적용 가능한 연산과 동작을 결정하는 속성\n",
    "\n",
    "### 데이터 타입 분류\n",
    "1. Numeric Types\n",
    "   - int, float, complex\n",
    "2. Text Sequence Type\n",
    "   - str\n",
    "3. Sequence Types\n",
    "   - list, tuple, range\n",
    "4. Non-sequence Types\n",
    "   - set, dict\n",
    "5. 기타\n",
    "   - Boolean, None, Functions\n",
    "\n",
    "\n"
   ]
  },
  {
   "cell_type": "markdown",
   "id": "8d14f68c-3cba-4d57-8c21-93efde3bcb51",
   "metadata": {},
   "source": [
    "### 데이터 타입의 필요성\n",
    "- 값들을 구분하고, 어떻게 다뤄야 하는지를 알 수 있다.\n",
    "- 각 데이터 타입의 값들에게 적합한 도구를 사용할 수 있다.\n",
    "- 타입을 명시적으로 지정함으로써 코드를 읽는 사람들이 변수의 의도를 더욱 쉽게 이해할 수 있고,\n",
    "  잘못된 데이터타입으로 인한 오류를 미리 예방할 수 있다."
   ]
  },
  {
   "cell_type": "markdown",
   "id": "270f1190-da39-4e10-9afb-90a79210ae8d",
   "metadata": {},
   "source": [
    "### 2. Numeric Types"
   ]
  },
  {
   "cell_type": "markdown",
   "id": "39bc1148-6081-4d53-8bd4-9c74679d80b2",
   "metadata": {},
   "source": [
    "### int : 정수 자료형\n",
    "\n",
    "### 진수 표현\n",
    "- 2진수(binary) : 0b\n",
    "- 8진수(octal) : 0o\n",
    "- 16진수(hexadecimal) : 0x\n",
    "    - 16진수의 수는 0, 1, ~ , 9, A, B, C, D, E, F로 표현 \n",
    "### 진수 -> 정수\n",
    "print(0X진수표현) : X에 해당 진수를 표현하는 약어, 진수표현에 해당 진수를 기입할 시, 정수를 출력\n"
   ]
  },
  {
   "cell_type": "code",
   "execution_count": 3,
   "id": "210b04f5-ce7c-4f1f-a098-f1c916a30c0e",
   "metadata": {},
   "outputs": [
    {
     "name": "stdout",
     "output_type": "stream",
     "text": [
      "6\n",
      "122\n",
      "432\n"
     ]
    }
   ],
   "source": [
    "# 진수를 정수로 표현하는 법\n",
    "print(0b110) # 2진수 110을 정수로 표현\n",
    "print(0o172) # 8진수 172를 정수로 표현\n",
    "print(0x1B0) # 16진수 1B0(= 1 * 16**2 + B(11) * 16**1 + 0 * 1 = 256 + 176 + 0) = 432를 정수로 표현"
   ]
  },
  {
   "cell_type": "markdown",
   "id": "71bf1307-8b55-4e73-a2bc-a7178e35ee94",
   "metadata": {},
   "source": [
    "### float : 실수 자료형\n",
    "\n",
    "### 프로그래밍 언어의 float\n",
    "프로그래밍 언어에서 실수를 표현하는 float 자료형은 실수에 대한 근삿값이다!!!\n",
    "\n",
    "### 유한 정밀도\n",
    "컴퓨터 메모리 용량의 한계 / 한 숫자를 저장하는 데 사용되는 용량의 제한"
   ]
  },
  {
   "cell_type": "code",
   "execution_count": null,
   "id": "3bec2b04-37b1-412e-b10b-d6a60c815b23",
   "metadata": {},
   "outputs": [],
   "source": [
    "# 유한 정밀도 예시\n",
    "# 제한된 메모리에 저장할 수 있는 값 중 2/3, 5/3에 가장 가까운 값\n",
    "print(2/3) # 0.6666666666666666\n",
    "print(5/3) # 1.6666666666666667\n"
   ]
  },
  {
   "cell_type": "markdown",
   "id": "c76bbaec-04e8-4b29-a3d1-195c0b3a49bb",
   "metadata": {},
   "source": [
    "### 실수 연산 주의사항 : Floating point rounding error\n",
    "- 컴퓨터는 2진수, 사람은 10진법을 사용\n",
    "- 10진수인 0.1 -> 2진수 : 0.0001100110011001100110011....\n",
    "- 이러한 무한대 숫자를 그대로 저장할 수 없기에 사람이 사용하는 근사값만 표시한다.\n",
    "- ex. 0.1 -> 3602879701896397 / 2 ** 55 : 0.1에 가깝지만 정확히 동일하지는 않음\n",
    "- 이러한 과정에서 나타나는 문제 : Floating point rounding error\n"
   ]
  },
  {
   "cell_type": "markdown",
   "id": "7a8b3306-089e-4c37-8f70-12b802549e10",
   "metadata": {},
   "source": [
    "### 실수 연산 문제 해결방법\n",
    "1. 임의의 작은 수 사용(abs)\n",
    "2. math 모듈 활용"
   ]
  },
  {
   "cell_type": "code",
   "execution_count": 9,
   "id": "5cce631b-0380-438e-9f18-9c7ed9fc1c14",
   "metadata": {},
   "outputs": [
    {
     "name": "stdout",
     "output_type": "stream",
     "text": [
      "3.8\n",
      "True\n",
      "True\n"
     ]
    }
   ],
   "source": [
    "a = 3.2 - 3.1 # = 0.10000000000000009\n",
    "b = 1.2 - 1.1 # = 0.09999999999999987\n",
    "\n",
    "# 임의의 작은 수 활용 : abs() < 1e-10아 True일 경우 괜찮다고 판단\n",
    "print(abs(a-b) <= 1e-10)\n",
    "# math 모듈의 .isclose()메소드 활용\n",
    "import math\n",
    "print(math.isclose(a, b))"
   ]
  },
  {
   "cell_type": "markdown",
   "id": "c23f9e10-6197-4ab7-b5bb-224d35dd28ac",
   "metadata": {},
   "source": [
    "### 지수 표현 : e or E"
   ]
  },
  {
   "cell_type": "code",
   "execution_count": 12,
   "id": "af67d165-d38f-4aad-a342-c29c332e01ee",
   "metadata": {},
   "outputs": [
    {
     "name": "stdout",
     "output_type": "stream",
     "text": [
      "3.14 <class 'float'>\n"
     ]
    }
   ],
   "source": [
    "# 지수 표현 예제\n",
    "num = 314e-2 # num = 314 * 10**(-2)\n",
    "\n",
    "print(num, type(num))"
   ]
  },
  {
   "cell_type": "markdown",
   "id": "96cfa412-f97c-4fd4-a078-934fc576678c",
   "metadata": {},
   "source": [
    "## 3. Sequence Type"
   ]
  },
  {
   "cell_type": "markdown",
   "id": "f86da98f-bf0e-4790-af53-a3564a3f8158",
   "metadata": {},
   "source": [
    "### str\n",
    "\n",
    "문자열(str) : 문자들의 순서가 있는 변경 불가능한 Seq 자료형\n",
    "\n",
    "### 문자열 표현 : 단일 문자나 여러 문자의 조합\n",
    "- 작은 따옴표(') or 큰 따옴표(\")로 감싸서 표현"
   ]
  },
  {
   "cell_type": "markdown",
   "id": "b5710524-b8ce-492a-b2c8-51f700b78021",
   "metadata": {},
   "source": [
    "### 중첩 따옴표 : 따옴표 안의 따옴표\n",
    "\n",
    "문자열 안에 따옴표를 사용해야 하는 경우 : 감싼 따옴표와 다른 것을 사용하면 해결 가능"
   ]
  },
  {
   "cell_type": "code",
   "execution_count": 14,
   "id": "7d4a0ca7-8de7-4c92-9948-9027c807fad1",
   "metadata": {},
   "outputs": [
    {
     "name": "stdout",
     "output_type": "stream",
     "text": [
      "Hello, World\n",
      "I am Minkyu\n",
      "What's your name?\n",
      "Did you say \"I am your father\"?\n"
     ]
    }
   ],
   "source": [
    "### 따옴표\n",
    "print('Hello, World')\n",
    "print(\"I am Minkyu\")\n",
    "\n",
    "# 중첩 따옴표\n",
    "print(\"What's your name?\")\n",
    "print('Did you say \"I am your father\"?')"
   ]
  },
  {
   "cell_type": "markdown",
   "id": "048c5a6e-8b71-4f5b-b53d-81fb669e7ec6",
   "metadata": {},
   "source": [
    "### Escape sequence \n",
    "역슬래시(Backslash) 뒤에 특정 문자를 조합하여 특수한 기능을 하는 문자 조합\n",
    "- 파이썬의 일반적인 문법 규칙을 잠시 탈출하는 방법\n",
    "\n",
    "### Escape Seq의 종류\n",
    "\n",
    "| 예약 문자 | 내용        |\n",
    "|:----:|:-----------:|\n",
    "|  \\n   | 줄 바꿈      |\n",
    "|  \\t   | 탭만큼 들여쓰기|\n",
    "|  \\\\   | 백슬래시 사용|\n",
    "|  \\ '   | 작은 따옴표 | \n",
    "|  \\ \"  | 큰 따옴표  |\n",
    "\n"
   ]
  },
  {
   "cell_type": "code",
   "execution_count": 17,
   "id": "e3361242-e108-498f-b46c-43870586e820",
   "metadata": {},
   "outputs": [
    {
     "name": "stdout",
     "output_type": "stream",
     "text": [
      "강아지는 '멍멍'이라고 짖는다.\n",
      "이 다음은 \n",
      "엔터 입니다.\n",
      "이것은 \t탭만큼 들여쓰기 입니다.\n"
     ]
    }
   ],
   "source": [
    "# 이스케이프 문자 사용 예제\n",
    "print('강아지는 \\'멍멍\\'이라고 짖는다.')\n",
    "print('이 다음은 \\n엔터 입니다.')\n",
    "print('이것은 \\t탭만큼 들여쓰기 입니다.')"
   ]
  },
  {
   "cell_type": "markdown",
   "id": "514bb24c-6ab5-474c-af3c-b0b0968a3fed",
   "metadata": {},
   "source": [
    "### String Interpolation \n",
    "문자열 내에 변수/표현식을 삽입하는 방법\n",
    "\n",
    "f-stirng : 문자열 앞에 f(F)를 붙인 후, 표현식을 {} 안에 작성하여 문자열 내에 파이썬 표현식 값을 삽입하는 기능"
   ]
  },
  {
   "cell_type": "code",
   "execution_count": 18,
   "id": "32792dbd-30a2-47b2-97a3-a2e4129445ca",
   "metadata": {},
   "outputs": [
    {
     "name": "stdout",
     "output_type": "stream",
     "text": [
      "I like icecream!\n"
     ]
    }
   ],
   "source": [
    "# f-string 사용 예제\n",
    "expression_1 = 'icecream'\n",
    "print(f'I like {expression_1}!')"
   ]
  },
  {
   "cell_type": "markdown",
   "id": "84a228a7-709e-4d9f-a294-d4ebc5db9fe6",
   "metadata": {},
   "source": [
    "### 문자열 seq의 특징\n",
    "1. 인덱스(index) : seq 내의 값들에 대한 고유한 번호\n",
    "    - 각 값들의 위치를 식별하거나 접근할 때 사용되는 숫자\n",
    "2. 슬라이싱(slicing) : seq의 일부분을 선택하여 추출하는 것\n",
    "   - 시작 인덱스(i)와 끝 인덱스(j)를 지정하여 해당 범위(i ~ j-1)의 값을 포함하는 새로운 seq를 생성\n",
    "   - step을 지정하여 범위 내의 인덱스를 건너뛸 수도 있음\n",
    "3. 불변\n",
    "   - 문자열 내의 값들을 변경하거나 수정할 수 없다\n",
    "   - TypeError : 'srt' object does not support item assignment 발생"
   ]
  },
  {
   "cell_type": "code",
   "execution_count": 25,
   "id": "2c7253bd-f00e-49f4-b6d1-4e9b3c930583",
   "metadata": {},
   "outputs": [
    {
     "name": "stdout",
     "output_type": "stream",
     "text": [
      "14\n",
      "Indexing\n",
      "0번 index에 저장된 값 : H\n",
      "1번 index에 저장된 값 : e\n",
      "2번 index에 저장된 값 : l\n",
      "3번 index에 저장된 값 : l\n",
      "4번 index에 저장된 값 : o\n",
      "5번 index에 저장된 값 : ,\n",
      "6번 index에 저장된 값 :  \n",
      "7번 index에 저장된 값 : I\n",
      "8번 index에 저장된 값 :  \n",
      "9번 index에 저장된 값 : a\n",
      "10번 index에 저장된 값 : m\n",
      "11번 index에 저장된 값 :  \n",
      "12번 index에 저장된 값 : M\n",
      "13번 index에 저장된 값 : K\n",
      "Slicing\n",
      "ll\n",
      "Hello\n",
      "o, I am MK\n",
      "KM ma I ,olleH\n",
      "str형은 수정 X\n"
     ]
    }
   ],
   "source": [
    "# 문자열 seq 특징 예제\n",
    "my_str = 'Hello, I am MK'\n",
    "print(len(my_str))\n",
    "\n",
    "print('Indexing')\n",
    "for i in range(len(my_str)):\n",
    "    print(f\"{i}번 index에 저장된 값 : {my_str[i]}\")\n",
    "\n",
    "print('Slicing')\n",
    "print(my_str[2:4])\n",
    "print(my_str[:5])\n",
    "print(my_str[4:])\n",
    "print(my_str[::-1])\n",
    "\n",
    "print('str형은 수정 X')\n",
    "# my_str[1] = 'z'같이 인덱싱 혹은 슬라이싱 등으로 값을 변경하는 것은 불가능하다."
   ]
  },
  {
   "cell_type": "markdown",
   "id": "23fbf1a4-76fc-4b54-bbf8-de520e363f7a",
   "metadata": {},
   "source": [
    "### 3. Sequence Type\n"
   ]
  },
  {
   "cell_type": "markdown",
   "id": "4485829f-1c2c-4acf-bb90-e7b374817f80",
   "metadata": {},
   "source": [
    "### list \n",
    "여러 개의 값을 순서대로 저장하는 수정 가능한 seq 자료형\n",
    "\n",
    "### 리스트 표현\n",
    "- 0개 이상의 객체를 포함\n",
    "- 데이터 목록 저장\n",
    "- 대괄호로([]) 리스트 표현\n",
    "- 리스트 원소 데이터타입은 어떤 것이든 상관 없다"
   ]
  },
  {
   "cell_type": "code",
   "execution_count": 27,
   "id": "d9a393ea-4da2-4d53-95f6-0b803481e81b",
   "metadata": {},
   "outputs": [],
   "source": [
    "# 리스트 표현 예제\n",
    "my_list_1 = [] # 빈 리스트\n",
    "# 리스트 원소들의 data type의 다양성\n",
    "my_list_2 = [1, 'a', 3, 'b', 5] \n",
    "# 리스트의 원소가 리스트가 될 수도 있음\n",
    "my_list_3 = [1, 2, 3, 'Python', ['hello', 'world', '!!!']]"
   ]
  },
  {
   "cell_type": "markdown",
   "id": "8ad514b8-eb57-4e8d-bd4a-dda33ebb6891",
   "metadata": {},
   "source": [
    "### 리스트 시퀀스의 특징\n",
    "\n",
    "1. 인덱싱(Indexing)\n",
    "2. 슬라이싱(Slicing)\n",
    "3. 길이(len)\n",
    "4. 가변(수정 O)"
   ]
  },
  {
   "cell_type": "markdown",
   "id": "ba0d8ac6-eee9-4efd-ad03-7e2827d433f6",
   "metadata": {},
   "source": [
    "### 중첩된 리스트에 접근하기"
   ]
  },
  {
   "cell_type": "code",
   "execution_count": 45,
   "id": "98ffb62b-1f74-4db9-9999-49b58b3e1634",
   "metadata": {},
   "outputs": [
    {
     "name": "stdout",
     "output_type": "stream",
     "text": [
      "5\n",
      "!!!\n",
      "w\n"
     ]
    }
   ],
   "source": [
    "# 중첩 리스트 생성\n",
    "my_list = [1, 2, 3, 'Python', ['hello', 'world', '!!!']]\n",
    "print(len(my_list))\n",
    "print(my_list[4][-1])\n",
    "print(my_list[-1][1][0])"
   ]
  },
  {
   "cell_type": "code",
   "execution_count": 47,
   "id": "088d996f-dcff-4061-b54f-c1f3b9e7af5b",
   "metadata": {},
   "outputs": [],
   "source": [
    "# 리스트 원소 변경\n",
    "new_val = [1, 2, 3]\n",
    "\n",
    "# 특이한 케이스 : index vs slicing\n",
    "# indexing - my_list[1] = new_val -> vew_val리스트 그 자체를 원소로 \n",
    "# [1, [1, 2, 3], 3, 'Python', ['hello', 'world', '!!!']]\n",
    "\n",
    "\n",
    "# slicing - my_list[1:2] = new_val -> new_val리스트의 원소들을 끼워넣음 \n",
    "# [1, 1, 2, 3, 3, 'Python', ['hello', 'world', '!!!']]\n"
   ]
  },
  {
   "cell_type": "markdown",
   "id": "170dc635-9c40-40fd-b9cd-f87da3a440ae",
   "metadata": {},
   "source": [
    "### tuple\n",
    "여러 개의 값을 순서대로 저장하는 변경 불가능한 시퀀스 자료형\n",
    "\n",
    "### 튜플 표현\n",
    "- 0개 이상의 객체를 포함하며 데이터 목록 저장\n",
    "- 소괄호()로 표기\n",
    "- 데이터는 어떤 자료형도 저장 가능튜플 생성자로 사용하니 괄호는 생략 가능\r\n",
    "x, y = 10, 20\r\n",
    "실행 해보기"
   ]
  },
  {
   "cell_type": "code",
   "execution_count": 50,
   "id": "56de98dc-5fab-445d-a36c-ee94a291d336",
   "metadata": {},
   "outputs": [],
   "source": [
    "### 튜플 예시\n",
    "my_tuple_1 = ()\n",
    "my_tuple_2 = (1, )\n",
    "my_tuple_3 = 5, my_tuple_3 = 1, 2, 3, 'a', 'b'\n"
   ]
  },
  {
   "cell_type": "markdown",
   "id": "fb010b81-aabf-4e2d-91a7-b50affc55a98",
   "metadata": {},
   "source": [
    "### 튜플의 시퀀스 특징\n",
    "1. 인덱싱\n",
    "2. 슬라이싱\n",
    "3. 길이\n",
    "4. 불변(TypeError: 'tuple' object does not support item assignment)"
   ]
  },
  {
   "cell_type": "markdown",
   "id": "597b3863-9e1f-4ffb-bbb0-6d8e933ad37e",
   "metadata": {},
   "source": [
    "### 튜플의 사용 용도\n",
    "튜플의 불변 특징을 사용하는 경우, 안전하게 여러 개의 값을 전달, 그룹화, 다중 할당 등 가능\n",
    "- 개발자가 직접 사용하는 경우보다 파이썬 내부에서 동작할 때 주로 사용\n",
    "- 파이썬은 쉼표(,)가 튜플 생성자 역할을 한다(쉼표를 통해 튜플임을 선언할 경우 괄호 생략 가능)"
   ]
  },
  {
   "cell_type": "markdown",
   "id": "833acfd2-6173-4e0e-8ffe-9268f59782de",
   "metadata": {},
   "source": [
    "### range\n",
    "연속된 정수 시퀀스를 생성하는 변경 불가능한 자료형"
   ]
  },
  {
   "cell_type": "markdown",
   "id": "ec6491bf-bdde-42b4-94c9-50097f77599d",
   "metadata": {
    "jp-MarkdownHeadingCollapsed": true
   },
   "source": [
    "### range 표현 방법\n",
    "- range(n) : 0 ~ (n-1)까지의 정수 시퀀스\n",
    "- range(n, m) : n ~ (m-1)까지의 정수 시퀀스\n",
    "\n",
    "- 리스트 등으로 형 변환시 데이터를 확인해 볼 수 있다(아니면 출력할 경우 range로 나옴)"
   ]
  },
  {
   "cell_type": "markdown",
   "id": "a6906015-d9ed-4de2-bcf6-d510266a6772",
   "metadata": {},
   "source": [
    "### range의 사용 용도\n",
    "range는 반복 실행해야 하는 코드를 짤 때, 인덱스로 해당 인자들에 접근하기 위해 주로 사용한다\n",
    "- for i in range():\n",
    "- for i in len(range()):"
   ]
  },
  {
   "cell_type": "markdown",
   "id": "7db8e13e-4db4-4b2e-8853-679a39545ee4",
   "metadata": {},
   "source": [
    "### 4. Non-sequence Types"
   ]
  },
  {
   "cell_type": "markdown",
   "id": "e17f80e6-c265-4041-a0c1-4f0bee9412bb",
   "metadata": {},
   "source": [
    "### dictionary\n",
    "key와 value 쌍(key : value)으로 이루어진 순서와 중복(키 중복)이 없는 변경 가능한 자료형"
   ]
  },
  {
   "cell_type": "markdown",
   "id": "007cf6d1-1a9e-4551-bc8f-0c8012e7459b",
   "metadata": {},
   "source": [
    "### 딕셔너리 표현\n",
    "- key는 변경 불가능한 자료형(str, int, float, tuple, range, ,,, )만 사용 가능\n",
    "- value는 모든 자료형을 사용 가능\n",
    "- 중괄호{}로 딕셔너리 표기"
   ]
  },
  {
   "cell_type": "code",
   "execution_count": 52,
   "id": "60ab5810-8468-4f21-a87e-4e2f1d71c5e6",
   "metadata": {},
   "outputs": [],
   "source": [
    "# 딕셔너리 표현 예제\n",
    "my_dict_1 = {} # 빈 딕셔너리\n",
    "my_dict_2 = {'key1' : 'value1',\n",
    "             'key2' : 'value2',\n",
    "            }"
   ]
  },
  {
   "cell_type": "markdown",
   "id": "377bca10-2c9b-4728-8eda-0a408eda096c",
   "metadata": {},
   "source": [
    "### 딕셔너리 사용\n",
    "- key를 통해 value에 접근 가능 : dict_name['key_name']\n",
    "- key에 대응하는 value값 수정 가능"
   ]
  },
  {
   "cell_type": "code",
   "execution_count": 53,
   "id": "6c8bcabb-7967-4187-ae70-231c47a5604b",
   "metadata": {},
   "outputs": [
    {
     "name": "stdout",
     "output_type": "stream",
     "text": [
      "{'apple': 5, 'banana': 3, 'coconut': 7}\n",
      "5\n",
      "{'apple': 5, 'banana': 10, 'coconut': 7}\n"
     ]
    }
   ],
   "source": [
    "# 딕셔너리 사용 예제\n",
    "my_dict = {'apple' : 5, \n",
    "           'banana' : 3,\n",
    "           'coconut' : 7}\n",
    "print(my_dict)\n",
    "print(my_dict['apple'])\n",
    "\n",
    "my_dict['banana'] = 10\n",
    "print(my_dict)"
   ]
  },
  {
   "cell_type": "markdown",
   "id": "8addd500-325b-4bff-adda-5ee9efa07210",
   "metadata": {},
   "source": [
    "### set\n",
    "순서와 중복이 없는 변경 가능한 자료형"
   ]
  },
  {
   "cell_type": "markdown",
   "id": "747180e3-46e9-4589-a862-8e8863d83586",
   "metadata": {},
   "source": [
    "### 세트 표현\n",
    "- 수학의 집합과 동일한 연산 처리 시행\n",
    "- 중괄호로{} 표기 : 빈 집합 정의시 set()함수를 사용해야 함\n",
    "    - null_dict = {}\n",
    "    - null_set = set()\n",
    "\n",
    "### 세트의 집합 연산(합집합, 교집합, 차집합)\n",
    "집합들의 연산 결과도 집합{}으로 나오는거 주의!!!! \n",
    "\n",
    "이거 생각 안하면 밑 예제에서 차집합 출력 결과가 {1}이 아니라 그냥 1로 적어버릴수도 있음\n",
    "\n",
    "- 합집합 : |\n",
    "- 교집합 : &\n",
    "- 차집합 : -\n",
    "  "
   ]
  },
  {
   "cell_type": "code",
   "execution_count": 54,
   "id": "0801f791-8c0e-4f4e-8426-2cfaf978180e",
   "metadata": {},
   "outputs": [
    {
     "name": "stdout",
     "output_type": "stream",
     "text": [
      "{1, 2, 3, 4}\n",
      "{2, 3}\n",
      "{1}\n"
     ]
    }
   ],
   "source": [
    "# 세트 표현 및 연산 예제\n",
    "set_1 = set()\n",
    "set_2 = {1, 1, 2, 2, 3, 3, 3, 4} # 중복 원소는 알아서 제거됨\n",
    "set_3 = {'hello', 'world', '!'}\n",
    "\n",
    "my_set_1 = {1, 2, 3}\n",
    "my_set_2 = {2, 3, 4}\n",
    "# 합집합\n",
    "print(my_set_1 | my_set_2)\n",
    "# 교집합\n",
    "print(my_set_1 & my_set_2)\n",
    "# 차집합\n",
    "print(my_set_1 - my_set_2)"
   ]
  },
  {
   "cell_type": "markdown",
   "id": "b2106f93-d96f-4338-84d0-fa132db5adc2",
   "metadata": {},
   "source": [
    "### 5. Other Types"
   ]
  },
  {
   "cell_type": "markdown",
   "id": "9745c1e5-eb6e-4bfb-a78b-263aa4de2dc1",
   "metadata": {},
   "source": [
    "### None\n",
    "파이썬에서 '값이 없음'을 표현하는 자료형\n",
    "\n",
    "### None 표현\n",
    "var = None\n",
    "\n",
    "### 주의사항\n",
    "None은 0과 다르다!\n",
    "- None은 진짜 아무 값도 없는 상태\n",
    "- 0은 0이라는 하나의 값"
   ]
  },
  {
   "cell_type": "markdown",
   "id": "3f9e0758-acb4-4561-8881-e9ee40871179",
   "metadata": {},
   "source": [
    "### Boolean\n",
    "True와 False를 표현하는 자료형\n",
    "\n",
    "### Bool 표현\n",
    "- 비교/논리 연산의 평가 결과\n",
    "- 조건/반복문과 함께 사용"
   ]
  },
  {
   "cell_type": "code",
   "execution_count": 55,
   "id": "4d65a4fb-161d-46e0-a78c-5b0c0703262b",
   "metadata": {},
   "outputs": [
    {
     "name": "stdout",
     "output_type": "stream",
     "text": [
      "True False\n",
      "True\n",
      "False\n",
      "True\n",
      "False\n"
     ]
    }
   ],
   "source": [
    "# bool 표현 예제\n",
    "bool_1 = True\n",
    "bool_2 = False\n",
    "print(bool_1, bool_2)\n",
    "\n",
    "print(10 > 3)\n",
    "print(3 < 1.5)\n",
    "print('e' in 'Hello World')\n",
    "print('a' not in 'banana')"
   ]
  },
  {
   "cell_type": "markdown",
   "id": "1253cccc-2e73-41d4-85d3-7fab4392cfa2",
   "metadata": {},
   "source": [
    "### 6. Collection"
   ]
  },
  {
   "attachments": {
    "3a3a0d20-2922-43a1-8da8-2de40305f6ac.png": {
     "image/png": "[encoded data removed]"
    }
   },
   "cell_type": "markdown",
   "id": "aa76d357-87fa-4667-aab0-ba2f4c1a17a5",
   "metadata": {},
   "source": [
    "### Collection\n",
    "여러 개의 항목 또는 요소를 담는 자료구조\n",
    "\n",
    "### Collection의 종류\n",
    "- str : 순서 O, 불변\n",
    "- list : 순서 O, 길이, 가변\n",
    "- tuple : 순서 O, 불변, 파이썬 내부 동작\n",
    "- dict : 순서 X, 중복 X, 가변\n",
    "- set : 순서 X, 중복 X, 가변\n",
    "![image.png](attachment:3a3a0d20-2922-43a1-8da8-2de40305f6ac.png)\n",
    "\n",
    "- *** 해당 그림에서 정렬 -> 순서(시퀀스 / 비시퀀스 기준)\n"
   ]
  },
  {
   "cell_type": "markdown",
   "id": "9b367050-b516-49cb-b65b-a2462bf0af4d",
   "metadata": {},
   "source": [
    "### 불변과 가변의 차이\n",
    "Python Tutor에서 확인 가능\n",
    "![image](https://github.com/ragu6963/TIL/assets/32388270/b6dca7db-4a13-4e75-843b-cbc8badf3691)\n"
   ]
  },
  {
   "cell_type": "code",
   "execution_count": 61,
   "id": "b82857dc-b667-461a-a7b2-6a75e68f40ba",
   "metadata": {},
   "outputs": [
    {
     "name": "stdout",
     "output_type": "stream",
     "text": [
      "Hello\n"
     ]
    }
   ],
   "source": [
    "# 불변과 가변의 차이 확인\n",
    "my_str = 'hello'\n",
    "my_list = [1, 2, 3]\n",
    "\n",
    "# 나의 변수가 참조하는 리스트 객체의 요소값을 변경(기존 요소 객체를 바라보다가 다른 요소 객체를 바라보면 되)\n",
    "my_list[0] = 100 \n",
    "\n",
    "# my_str[0] = 'H' 같은건 불가능(나의 변수가 참조하는 문자열 객체가 어떠한 메모리주소를 저장하기 때문에\n",
    "\n",
    "# 불변 type의 데이터 요소를 변경하고 싶을 때 : 새로운 변수를 생성한 후 그 뒤에 수정 조건을 반영하여 채워넣기\n",
    "my_new_str = ''\n",
    "\n",
    "for i in my_str:\n",
    "    if i == 'h':\n",
    "        # 그냥 i.upper()만 하면 이게 적용이 안됨... i에 새로운 객체('H')를 담은 메모리 주소 할당 \n",
    "        i = i.upper()\n",
    "    my_new_str += i\n",
    "print(my_new_str)\n",
    "    "
   ]
  },
  {
   "cell_type": "markdown",
   "id": "2135fc3d-617f-43ef-91fa-6d368e01b727",
   "metadata": {},
   "source": []
  },
  {
   "cell_type": "markdown",
   "id": "3af1fb98-f41e-4e57-b9a1-e5389841b111",
   "metadata": {},
   "source": []
  },
  {
   "cell_type": "markdown",
   "id": "0bd6ae4b-40ea-49ae-adcd-3ad3fab5e775",
   "metadata": {},
   "source": []
  },
  {
   "cell_type": "markdown",
   "id": "2ee7d718-0f2c-4249-bd9f-7cb3eeb617ee",
   "metadata": {},
   "source": []
  },
  {
   "cell_type": "markdown",
   "id": "c301e958-f524-43c9-923f-4646d712e6df",
   "metadata": {},
   "source": []
  },
  {
   "cell_type": "markdown",
   "id": "bad9afe5-fd0c-4a63-8998-db7974d2fa12",
   "metadata": {},
   "source": []
  }
 ],
 "metadata": {
  "kernelspec": {
   "display_name": "Python 3 (ipykernel)",
   "language": "python",
   "name": "python3"
  },
  "language_info": {
   "codemirror_mode": {
    "name": "ipython",
    "version": 3
   },
   "file_extension": ".py",
   "mimetype": "text/x-python",
   "name": "python",
   "nbconvert_exporter": "python",
   "pygments_lexer": "ipython3",
   "version": "3.11.4"
  }
 },
 "nbformat": 4,
 "nbformat_minor": 5
}
