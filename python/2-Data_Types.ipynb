{
 "cells": [
  {
   "cell_type": "markdown",
   "id": "852c2403-740b-48d1-98ee-73efea99f412",
   "metadata": {},
   "source": [
    "# 2. Data Types"
   ]
  },
  {
   "cell_type": "markdown",
   "id": "c3a0c675-a2c3-4812-8c04-f69308164836",
   "metadata": {},
   "source": [
    "## 1. Data Types"
   ]
  },
  {
   "cell_type": "markdown",
   "id": "edb2a23a-d1ad-4eaf-86ad-2570e3d98c69",
   "metadata": {},
   "source": [
    "### Data Type\n",
    "값의 종류와 적용 가능한 연산 및 동작을 결정하는 속성\n",
    "\n",
    "#### 데이터 타입이 필요한 이유\n",
    "1. 값들을 구분하고, 각 데이터 타입에 따라 어떻게 다뤄야 할 지 알 수 있음\n",
    "2. 타입이 명시적으로 지정되어 코드를 읽는 사람들이 변수에 대해 더 쉽게 이해하고, 잘못된 입력을 바로잡을 수 있음"
   ]
  },
  {
   "cell_type": "markdown",
   "id": "991ec186-1bdd-469c-8214-134266e3caf6",
   "metadata": {},
   "source": [
    "## 2. Numeric Types"
   ]
  },
  {
   "cell_type": "markdown",
   "id": "38fb414e-e88f-4508-b8df-967aff992d3e",
   "metadata": {},
   "source": [
    "### int \n",
    "정수를 표현하는 자료형\n",
    "\n",
    "#### 진수의 표현\n",
    "1. 2진수(binary) 표현 방법 : 0b\n",
    "2. 8진수(octal) 표현 방법 : 0o\n",
    "3. 16진수(hexadecimal) 표현 방법 : 0x\n",
    "    - 16진수 등 10이 넘어가는 진수는 0 ~ 9, A, B, C, ,,, 등으로 숫자에 대응하여 표현한다.\n",
    "    - 16진수 : 0, 1, 2, 3, 4, 5, 6, 7, 8, 9, A, B, C, D, E, F "
   ]
  },
  {
   "cell_type": "code",
   "execution_count": 3,
   "id": "57a00ec1-13fe-4b16-8016-424ef45a2506",
   "metadata": {},
   "outputs": [
    {
     "name": "stdout",
     "output_type": "stream",
     "text": [
      "6\n",
      "185\n",
      "4517\n"
     ]
    }
   ],
   "source": [
    "# 진수 표현 실습\n",
    "# 2진수\n",
    "print(0b110) # 2진수 110을 10진법으로 바꾸어 출력\n",
    "\n",
    "# 8진수\n",
    "print(0o271) # 8진수 271을 10진법으로 바꾸어 출력\n",
    "\n",
    "# 16진수\n",
    "print(0x11A5) # 8진수 11A5를 10진법으로 바꾸어 출력"
   ]
  },
  {
   "cell_type": "markdown",
   "id": "dc4d9207-4ae9-432f-84cf-84d95aa53b4e",
   "metadata": {},
   "source": [
    "### float\n",
    "실수를 표현하는 자료형\n",
    "- 프로그래밍 언어의 float : 실수의 <span style='color:red'>근삿값</span>\n",
    "\n",
    "#### 유한 정밀도\n",
    "컴퓨터 메모리 용량의 한계로 인해 숫자를 저장하는 용량이 제한된다.\n",
    "- 제한된 양의 메모리에 저장할 수 있는, 실수에 가장 가까운 값을 출력하는 것\n",
    "\n",
    "#### 실수 연산시 주의사항 : <span style='color:red;'>Floating point rounding error</span>\n",
    "- 컴퓨터와 사람의 다른 언어 사용(2진수 vs 10진법)\n",
    "- 컴퓨터에서는 0.1을 0.00011001100110011... 즉 무한소수로 표현 --> 근사값 표시(0.1 = 3602879701896397 / 2 ** 55)\n",
    "- 실제 값과 근사값 사이의 error 발생\n",
    "\n",
    "#### floating point rounding error 해결책 \n",
    "```python\n",
    "a = 3.2 - 3.1 # 0.10000000000000009\n",
    "b = 1.2 - 1.1 # 0.09999999999999987\n",
    "```\n",
    "1. abs(a - b) 사용\n",
    "```python\n",
    "print(abs(a - b) <= 1e-10) # True일 경우 그냥 사용해도 문제 X\n",
    "```\n",
    "\n",
    "3. math 모듈의 .isclose(a, b) 사용\n",
    "```python\n",
    "import math\n",
    "print(math.isclose(a, b)) # True일 경우 그냥 사용해도 문제 X\n",
    "```\n",
    "\n",
    "#### 지수 표현\n",
    "Ne-k == N * (10 ** -k)"
   ]
  },
  {
   "cell_type": "markdown",
   "id": "df4c16e9-f5a0-4e50-b3cf-11a230e59e20",
   "metadata": {},
   "source": [
    "## 3. Sequence Types"
   ]
  },
  {
   "cell_type": "markdown",
   "id": "0000372a-0ac5-4eb9-9512-fbf06337cf2b",
   "metadata": {},
   "source": [
    "### Sequence Type\n",
    "여러 값들을 순서대로 저장하여 나열하는 자료형\n",
    "\n",
    "#### Sequence Type의 특징\n",
    "1. 순서가 있다 -> 순서를 알려주는 값들의 고유한 번호인 <span style='color:red'>index</span>가 존재한다.\n",
    "    - 즉, 요소에 접근하기 위해 해당 요소의 index를 사용한다.\n",
    "2. 슬라이싱 : 인덱스 범위를 조절해 seq 자료형의 부분 데이터를 추출한다.\n",
    "3. 길이 : <span style='color:red'>len()</span>함수를 사용하여 저장된 값의 개수, 즉 데이터의 길이를 알 수 있다.\n",
    "4. 반복 : 반복문을 사용하여 저장된 값들에 대한 표현식을 반복적으로 처리할 수 있다."
   ]
  },
  {
   "cell_type": "markdown",
   "id": "b46eb02c-d67c-4323-be7b-8fddcd4c9005",
   "metadata": {},
   "source": [
    "### str\n",
    "문자들의 순서가 있는 변경 불가능한 시퀀스 자료형\n",
    "- 순서 O, 수정 X\n",
    "\n",
    "#### str 표현\n",
    "```python\n",
    "str_1 = ' '\n",
    "str_2 = 'Hello'\n",
    "str_3 = \"Python is Good!\"\n",
    "```\n",
    "#### 중첩 따옴표 \n",
    "따옴표 안의 따옴표 표현 방법\n",
    "1. 바깥의 따옴표와 다른 따옴표 사용\n",
    "2. 이스케이프 문자를 표현하려고 하는 따옴표 앞에 작성(ex. \\'  \\\")\n",
    "\n",
    "#### Escape Sequence\n",
    "백슬래시 뒤에 특정 문자가 와서 특수한 기능을 하는 문자 조합\n",
    "- 파이썬의 일반적인 문법 규칙을 탈출\n",
    "```python\n",
    "print('이것이 \\'를 표현하는 방법이다.')\n",
    "print(\"이것이 \\\"를 표현하는 방법이다.\")\n",
    "print(\"이것은\\t탭만큼 들여쓰는 것이다.\")\n",
    "print(\"이것은\\n줄내림이다.\")\n",
    "```\n",
    "\n",
    "#### String Interpolation\n",
    "문자열 내에 변수나 표현식을 삽입하는 법\n",
    "1. % 사용법\n",
    "2. .format\n",
    "3. <span style='color:red'>f-string</span>\n",
    "\n",
    "- 요즘은 f-string으로 해결 가능\n",
    "\n",
    "#### 문자열은 불변이다 \n",
    "문자열을 구성하고 있는 요소를 변경할 수 없다.\n",
    "\n",
    "```python\n",
    "my_str = 'abcde'\n",
    "# TypeError: 'str' object does not support item assignment\n",
    "# my_str[1] = 'z'\n",
    "```"
   ]
  },
  {
   "cell_type": "markdown",
   "id": "1067f2b2-47d3-42bd-9a88-6288eeb99ccd",
   "metadata": {},
   "source": [
    "### list\n",
    "여러 개의 값을 순서대로 저장하는 변경 가능한 시퀀스 자료형\n",
    "- 순서 O, 수정 O\n",
    "\n",
    "#### list 표현\n",
    "- 0개 이상의 객체를 포함하며 데이터 목록 저장\n",
    "- 대괄호로 리스트 표기\n",
    "- 어떠한 자료형도 리스트의 요소로 저장 가능\n",
    "```python\n",
    "my_list_1 = [] # 빈 리스트\n",
    "my_list_2 = [1, 2, 3, 4, 5]\n",
    "my_list_3 = [1, 2, 2, 1, 3, 3, 3] # 중복 허용\n",
    "my_list_4 = [1, 2, 3, 'Python', ['hello', 'world', '!!!']] # 여러 자료형을 리스트 요소로 저장 가능(중첩 리스트 케이스)\n",
    "```\n",
    "\n",
    "#### 리스트는 가변이다\n",
    "리스트를 구성하고 있는 요소는 수정 가능하다."
   ]
  },
  {
   "cell_type": "markdown",
   "id": "d05b4e30-f1e4-42a2-a111-343238177893",
   "metadata": {},
   "source": [
    "### tuple\n",
    "여러 개의 값을 순서대로 저장하는 변경 불가능한 시퀀스 자료형\n",
    "- 순서 O, 수정 X\n",
    "\n",
    "#### tuple 표현\n",
    "- 0개 이상의 객체를 포함하며 데이터 목록을 저장\n",
    "- 소괄호로 튜플 표기\n",
    "    - 소괄호를 생략할 경우, 반점(,)으로 연결하면 튜플로 타입이 정해짐\n",
    "- 어떠한 자료형도 튜플의 요소로 저장 가능\n",
    "\n",
    "```python\n",
    "my_tuple_1 = () # 빈 튜플\n",
    "my_tuple_2 = (1,) # 만약 (1)이라고 할 경우, 그냥 int 자료형으로 인식 -> 원소가 한 개일 때 주의\n",
    "my_tuple_3 = (1, 'a', 3, 'b', 5)\n",
    "```\n",
    "\n",
    "#### 튜플은 불변이다\n",
    "튜플을 구성하고 있는 요소는 변경 불가하다.\n",
    "\n",
    "```python\n",
    "my_tuple = (1, 'a', 3, 'b', 5)\n",
    "\n",
    "# TypeError: 'tuple' object does not support item assignment\n",
    "# my_tuple[1] = 'z'\n",
    "```\n",
    "\n",
    "#### 튜플의 사용 용도\n",
    "튜플의 가장 큰 특징 : 불변 / 여러 요소 저장 \n",
    "- 안전하게 여러 값을 전달, 그룹화, 다중 할당 하려 할 경우 사용\n",
    "- 파이썬 내부 동작에서 주로 사용, 5)"
   ]
  },
  {
   "cell_type": "markdown",
   "id": "21b88302-95bb-4e3f-baef-58047d91dbb2",
   "metadata": {},
   "source": [
    "### range\n",
    "연속된 정수 시퀀스를 생성하는 변경 불가능한 자료형\n",
    "- 순서 O, 수정 X\n",
    "\n",
    "#### range 표현\n",
    "1. range(n) : 0 ~ (n - 1)의 숫자의 시퀀스\n",
    "2. range(i, j) : i ~ (j - 1)의 숫자의 시퀀스\n",
    "3. range(i, j, k) : i ~ (j - 1)의 숫자들을 k-step으로 찾을 경우의 시퀀스\n",
    "- 연속된 / 정수 / 시퀀스 -> 반복문과 많이 사용한다.\n",
    "- 형변환을 거치지 않을 경우, 결과값이 range()로 출력되기 때문에 list 형 변환을 많이 사용한다."
   ]
  },
  {
   "cell_type": "markdown",
   "id": "fa70b75f-a77f-4a1d-83ce-9b342e513eaa",
   "metadata": {},
   "source": [
    "## 4. Non-sequence Types"
   ]
  },
  {
   "cell_type": "markdown",
   "id": "0300ff9f-db2b-4f11-850c-7752452479a2",
   "metadata": {},
   "source": [
    "### dict\n",
    "key - value 쌍으로 이루어진 순서와 중복이 없는 변경 가능한 자료형\n",
    "- 순서 X, 중복 X, 수정 O(value 수정 O, key 수정 X)\n",
    "\n",
    "#### dict 표현\n",
    "- key는 변경 불가능한 자료형만 사용 가능(str, int, float, tuple, range, ...)\n",
    "    - 이후 hash 어쩌고에도 나오네!!\n",
    "- value는 모든 자료형 사용 가능\n",
    "- 중괄호로 딕셔너리 표기, 내부 요소들은 key : value로 표기\n",
    "```python\n",
    "my_dict_1 = {}\n",
    "my_dict_2 = {'name': 'Minkyu'}\n",
    "my_dict_3 = {'age': 26, \n",
    "             'address': 'Incheon', \n",
    "             'education' : ['Garmoi elementary', 'Garmoi middle', 'Anyang Foreign Language High', 'Hanyang UV', 'SSAFY']}\n",
    "```\n",
    "- key를 통해 value에 접근/수정/추가 가능(이후 더 자세히 배울 내용)"
   ]
  },
  {
   "cell_type": "markdown",
   "id": "38bdebe2-bc52-4ea1-b0b0-c63cf74be7a4",
   "metadata": {},
   "source": [
    "### set\n",
    "순서와 중복이 없는 변경 가능한 자료형\n",
    "- 순서 X, 중복 X, 수정 O\n",
    "\n",
    "#### set 표현\n",
    "- 수학의 집합과 동일 연산 처리\n",
    "- 중괄호로 표기\n",
    "    - 빈 딕셔너리({})와의 구분을 위해 빈 세트는 set()로 표현\n",
    "#### set의 연산\n",
    "- 합집합(or) : set1 | set2\n",
    "- 교집합(and) : set1 & set2\n",
    "- 차집합(subtraction) : set1 - set2"
   ]
  },
  {
   "cell_type": "markdown",
   "id": "44466ec8-e554-44e8-aeb9-3469b4e35c01",
   "metadata": {},
   "source": [
    "## 5. Other types"
   ]
  },
  {
   "cell_type": "markdown",
   "id": "be86e6bd-b1c7-478f-a3f6-4b8217b797e6",
   "metadata": {},
   "source": [
    "### None\n",
    "파이썬에서 '값이 없는 상태'를 표현하는 자료형\n",
    "- 값이 그냥 진짜 아예 없는거임 주의....(0 != None)\n",
    "- 왜인지는 모르겠는데, None의 Bool 형은 False임"
   ]
  },
  {
   "cell_type": "markdown",
   "id": "3cfae6b3-935f-48e8-8e44-dbacf3404fce",
   "metadata": {},
   "source": [
    "### Boolean\n",
    "True와 False를 표현하는 자료형\n",
    "\n",
    "#### Boolean 표현\n",
    "- 비교 / 논리 연산의 평가 결과로 사용됨\n",
    "- 조건문 / 반복문과 함께 사용됨"
   ]
  },
  {
   "cell_type": "markdown",
   "id": "f4aac592-905b-42d6-8a1d-646cff382edd",
   "metadata": {},
   "source": [
    "## 6. Collection"
   ]
  },
  {
   "cell_type": "markdown",
   "id": "eda12dbf-e1a7-428b-8eb5-06f761322307",
   "metadata": {},
   "source": [
    "### Collection\n",
    "여러 개의 항목 또는 요소를 담는 자료 구조\n",
    "- str, list, tuple, set, dict\n",
    "\n",
    "#### Collection의 구분 기준\n",
    "1. 순서가 있는가??(Yes : str, list, tuple  ////  No : set, dict)\n",
    "2. 중복을 허용하는가??(Yes : str, list, tuple ////  No : set, dict) \n",
    "3. 수정이 가능한가??(Yes : list, set, dict  ////  No : str, tuple)"
   ]
  },
  {
   "cell_type": "markdown",
   "id": "a1fd818d-58c6-4f5c-8314-259f6faf9eeb",
   "metadata": {},
   "source": [
    "## 7. 불변과 가변\n",
    "![image](https://github.com/ragu6963/TIL/assets/32388270/b6dca7db-4a13-4e75-843b-cbc8badf3691)"
   ]
  },
  {
   "cell_type": "markdown",
   "id": "5dcedf5f-5364-4a35-8ace-6db103e75843",
   "metadata": {},
   "source": [
    "## + 새롭게 알게 된 내용\n",
    "- int 자료형에서 여러가지 진수들에 대한 표현법을 알 수 있었다. 특히, 10진법보다 큰 숫자를 표현해야 하는 경우의 진수는 0 ~ 9 이후 영문 알파벳이 추가되어 숫자를 표현해 주는 것을 찾아볼 수 있었다. 예를 들어, 16진법은 1부터 16까지를 0, 1, 2, ,,, 9, A, B, C, D, E, F로 표현한다.\n",
    "- 어디선가 파이썬에서의 실수에는 오류가 있다는 말은 들어봤지만 정확히 어떻게 생겨나는 것이고, 그 기준이 무엇인지 알지 못했다. 하지만 메모리 용량으로 인한 오류가 발생하고, 이를 최대한 줄이는 방향으로 프로그램이 float에 대한 근삿값을 제시해 준다는 것이 신기했다.\n",
    "- 자료형들을 나누는 가장 큰 기준인 Sequence에 대해 알게 되었다. 특히, 순서라는 것이 이후 배울 Hash function & table에서 '왜 랜덤인데 똑같은 결과가 나오지?'에 대한 해답을 줄 것이라는 내용이 흥미로웠다. 그동안 자료형을 외울 때 tuple, set 등에서 헷갈림이 조금 있었는데, 기준을 명확히 하고 자료형을 다시 보니 조금 더 분류하는 것에 도움이 되었다.\n",
    "- None에 대해 자세히 알 수 있었다. 특히, None은 bool형으로 형변환 시 False가 나오는데, 그 외의 나머지 자료형으로는 변환할 수 없었다(Error가 발생함). 그 이유는 자세하게까지는 모르겠지만, 특수한 데이터 타입이라 그런 것 같다. '무'의 상태를 표현할 수 있는 자료형이 없기 때문이라고 생각한다.\n",
    "- 불변 데이터 타입과 가변 데이터 타입의 차이를 파이썬 튜터를 이용한 할당 및 수정 과정의 시각화를 통해 알 수 있었다. 무작정 이 데이터 타입의 객체가 불변/가변임을 외우는 것이 아닌, 변수가 어떤 식으로 참조하는지를 볼 수 있었다."
   ]
  },
  {
   "cell_type": "code",
   "execution_count": null,
   "id": "db4df137-35af-44ed-8eec-0087dec2e5e9",
   "metadata": {},
   "outputs": [],
   "source": []
  }
 ],
 "metadata": {
  "kernelspec": {
   "display_name": "Python 3 (ipykernel)",
   "language": "python",
   "name": "python3"
  },
  "language_info": {
   "codemirror_mode": {
    "name": "ipython",
    "version": 3
   },
   "file_extension": ".py",
   "mimetype": "text/x-python",
   "name": "python",
   "nbconvert_exporter": "python",
   "pygments_lexer": "ipython3",
   "version": "3.9.13"
  }
 },
 "nbformat": 4,
 "nbformat_minor": 5
}
