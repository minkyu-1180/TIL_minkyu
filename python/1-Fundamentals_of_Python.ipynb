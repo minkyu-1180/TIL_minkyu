{
 "cells": [
  {
   "cell_type": "markdown",
   "id": "ec26c8cf-4ef5-448a-8fef-388dba267b31",
   "metadata": {},
   "source": [
    "# 1. Fundamentals of Python\n",
    "## Hello, python"
   ]
  },
  {
   "cell_type": "markdown",
   "id": "86df94d8-82e7-4d49-ae25-e6974173b0e0",
   "metadata": {},
   "source": [
    "## 1. 파이썬 소개"
   ]
  },
  {
   "cell_type": "markdown",
   "id": "f898706a-eb65-464b-9367-3fdfd76f16f0",
   "metadata": {},
   "source": [
    "### 파이썬의 사용성과 인기\n",
    "[jetbrains](https://www.jetbrains.com/ko-kr/lp/devecosystem-2022/)\r\n",
    "에서 조사한 프로그래밍 언어 관련 \n",
    "\n",
    "![image](https://github.com/ragu6963/TIL/assets/32388270/796f1eea-e313-4a43-981e-f532d7b9d198)\n",
    "\n",
    "![image](https://github.com/ragu6963/TIL/assets/32388270/86c153be-deab-4344-9c80-b0f17f5a4270)내용"
   ]
  },
  {
   "cell_type": "markdown",
   "id": "3883a9cc-3e05-4505-8c94-87c53652c250",
   "metadata": {},
   "source": [
    "### 파이썬을 사용하는 이유\n",
    "1. 간결하고 읽기 쉬운 문법\n",
    "2. 다양한 응용 분야\n",
    "    - 데이터 분석, AI, 웹 개발, 자동화 등\n",
    "3. 파이썬 커뮤니티의 지원\n",
    "    - 세계적인 규모의 풍부한 온라인 포럼 및 커뮤니티 생태계 "
   ]
  },
  {
   "attachments": {
    "80d2726c-cbb5-4f55-89e6-ffd450236687.png": {
     "image/png": "[encoded data removed]"
    }
   },
   "cell_type": "markdown",
   "id": "93e124d8-cefe-46a0-8c33-d0fddc39bbd5",
   "metadata": {},
   "source": [
    "### 파이썬 실행 방법\n",
    "\n",
    "#### 컴파일러와 인터프리터\n",
    "고급 언어로 작성된 원시 프로그램(Source Program)을 목적 프로그램(Object Program)으로 번역하는 프로그램\n",
    "\n",
    "![image.png](attachment:80d2726c-cbb5-4f55-89e6-ffd450236687.png)\n",
    "##### 컴파일러\n",
    "1. 고급 언어로 작성된 프로그램을 목적 프로그램으로 번역 후, Linking 작업을 통해 컴퓨터에서 실행 가능한 실행 프로그램 생성\n",
    "2. 번역 실행 과정이 필요해서 번역 과정이 번거롭고 번역 시간이 오래 걸림\n",
    "3. 한 번 번역한 후에는 다시 번역하지 않음(빠른 실행 속도)\n",
    "4. C언어, Java 등에서 사용\n",
    "\n",
    "##### 인터프리터\n",
    "1. 고급 언어로 작성된 프로그램을 한 줄 단위로 받아들여 번역하고, 동시에 프로그램을 한 줄 단위로 즉시 실행시키는 프로그램\n",
    "2. 목적 프로그램 생성 X (프로그램이 직접 실행되기 때문)\n",
    "3. <span style='color:red'>줄 단위로 번역, 실행</span>되기에 원시 프로그램의 변화에 대해 빠른 반응속도\n",
    "4. 빠른 번역 속도\n",
    "5. 프로그램 실행 시 매번 번역 필요(느린 실행 속도)\n",
    "6. Python, BASIC, SNOBOL, LISP, APL 등에서 사용\n",
    "7. CPU 사용시간의 낭비\n",
    "\n",
    "#### 파이썬 인터프리터의 역할\n",
    "컴퓨터는 기계어(0, 1)로 소통하기 때문에, 사람이 기계어를 직접 작성하기 어렵다.\n",
    "- 인터프리터가 사용자의 명령어를 운영체제가 이해하는 언어로 바꾸어 준다.\n",
    "\n",
    "#### 파이썬 인터프리터의 장점\n",
    "- 쉬운 사용 방법(<span style='color:red'>사용성</span>)\n",
    "- 쉬운 운영체제간 이식(<span style='color:red'>확장성</span>)"
   ]
  },
  {
   "cell_type": "markdown",
   "id": "a909d65d-e2c8-409c-a052-17b43a09eb68",
   "metadata": {},
   "source": [
    "### 파이썬 인터프리터 사용 방법\n",
    "1. <span style='color:red'>shell</span> : 한 번에 한 명령어 씩 입력하여 실행\n",
    "2. .py 확장 파일에 작성된 파이썬 프로그램 실행\n",
    "- 해당 파일에 파이썬 프로그램 작성 -> Terminal에서 [python 파일명.py] 명령어를 입력하여 실행"
   ]
  },
  {
   "cell_type": "markdown",
   "id": "cd006ee9-6d98-457a-80d4-694a37c54b86",
   "metadata": {},
   "source": [
    "## 2. 표현식과 값"
   ]
  },
  {
   "cell_type": "markdown",
   "id": "09717fd0-aa27-4673-8903-6a4f4c00bde8",
   "metadata": {},
   "source": [
    "### 표현식, 평가, 값, 문장\n",
    "\n",
    "#### 표현식(Expression)\n",
    "값, 변수, 연산자 등을 조합하여 계산되고 평가 결과를 내는 코드 구조\n",
    "##### 표현식 예\n",
    "```python\n",
    "1 + 2\n",
    "'hello'\n",
    "greeting = 'hi'\n",
    "5 * 21 - 4\n",
    "```\n",
    "### <span style='color:red'>평가(Evaluate)</span>\n",
    "표현식이나 문장을 실행하여 그 결과를 계산하고 결과값을 결정하는 과정\n",
    "- 표현식이나 문장을 순차적으로 평가\n",
    "\n",
    "### 문장(Statement)\n",
    "실행 가능한 동작을 기술하는 코드(ex. 조건문, 반복문, 함수 정의, ...)\n",
    "- 표현식은 문장의 일부이다(문장 = 표현식 1, 표현식 2, ...)"
   ]
  },
  {
   "cell_type": "markdown",
   "id": "cc3f08d8-fcaa-4ae1-a44a-a85291a3589a",
   "metadata": {},
   "source": [
    "## 3. 타입"
   ]
  },
  {
   "cell_type": "markdown",
   "id": "94623dc7-35d6-45ab-87ea-439c822d8eeb",
   "metadata": {},
   "source": [
    "### 타입(Type)\n",
    "값이 어떤 종류의 데이터인지를 정의하는 것\n",
    "- 데이터 타입을 통해 어떻게 해석되고 처리되어야 하는지 알 수 있다.\n",
    "\n",
    "#### 타입의 요소\n",
    "1. 값 : 피연산자\n",
    "2. 연산자"
   ]
  },
  {
   "cell_type": "markdown",
   "id": "37aeb4a5-1bd8-4a2a-a0af-1ca8607a32e4",
   "metadata": {},
   "source": [
    "#### 데이터 타입의 종류\n",
    "1. Numerical Types(숫자형 데이터)\n",
    "    - int, float, complex\n",
    "2. Sequence Types(연속형, 순서형 데이터)\n",
    "    - list, tuple, range\n",
    "3. Text Sequence Type(문자열 데이터)\n",
    "   - str\n",
    "4. Set Type(집합 데이터)\n",
    "   - set\n",
    "5. Mapping Type(맵핑 데이터)\n",
    "   - dict\n",
    "6. 기타\n",
    "   - None, Boolean, Functions"
   ]
  },
  {
   "cell_type": "markdown",
   "id": "487425e8-203c-496b-b316-c0863400fb48",
   "metadata": {},
   "source": [
    "## 4. 변수와 메모리"
   ]
  },
  {
   "cell_type": "markdown",
   "id": "bee0f0ea-8256-4a1d-a2f7-0bbc4b089241",
   "metadata": {},
   "source": [
    "### 변수(Variable)\n",
    "값을 <span style='color:red'>참조</span>하는 이름\n",
    "\n",
    "### 메모리 공간(Memory Space)\n",
    "객체를 저장하는 위치\n",
    "- 메모리 공간에 저장된 객체는 메모리 주소(메모리 위치의 고유 식별값)를 가지게 된다\n",
    "\n",
    "### 할당문(=)\n",
    "#### variable = value의 의미\n",
    "![image](https://github.com/ragu6963/TIL/assets/32388270/b5dfec1e-9f57-4dba-bf47-d333c988a1ab)\n",
    "\n",
    "할당 연산자(=)를 이용하여 변수(variable)에 값(value)를 할당했다.\n",
    "- 해당 값은 타입을 갖고, 메모리 주소에 들어간다. : 값의 객체화(Object)\n",
    "- 변수는 해당 객체를 참조하기 때문에, 객체의 메모리 주소를 가진다.\n",
    "\n",
    "즉, 할당 연산자 오른쪽에 있는 표현식을 평가하여 메모리 주소를 생성한 후, 값의 메모리 주소를 변수에 저장한다.\n",
    "- 존재하지 않는 변수일 경우 : 새 변수를 생성\n",
    "- 기존에 있던 변수일 경우 : 변수에 들어 있는 메모리 주소를 새로운 값에 저장된 메모리 주소로 변경(변수의 재할당)\n",
    "\n",
    "### 변수명 규칙\n",
    "1. 영문 알파벳, 언더바(_), 숫자로 구성\n",
    "2. 숫자로 변수명 시작 X\n",
    "3. 대소문자 구분\n",
    "4. 파이썬 예약어는 변수명으로 사용 불가능\n",
    "\n",
    "#### 파이썬의 예약어 종류\n",
    "    ```python\n",
    "    ['False', 'None', 'True', '__peg_parser__', 'and', 'as', 'assert', \n",
    "    'async', 'await', 'break', 'class', 'continue', 'def', 'del', \n",
    "    'elif', 'else', 'except', 'finally', 'for', 'from', 'global', \n",
    "    'if', 'import', 'in', 'is', 'lambda', 'nonlocal', 'not', \n",
    "    'or', 'pass', 'raise', 'return', 'try', 'while', 'with', 'yield']\n",
    "    ```\n"
   ]
  },
  {
   "cell_type": "markdown",
   "id": "7d5a372a-b54b-49f9-a5fd-d0e0ab364db3",
   "metadata": {},
   "source": [
    "## 5. 읽기 좋은 코드"
   ]
  },
  {
   "cell_type": "markdown",
   "id": "36586a88-6453-44fe-a387-03e54af9a6f6",
   "metadata": {},
   "source": [
    "### Style Guide\n",
    "코드의 일관성, 가독성 향상을 위한 규칙과 권장 사항\n",
    "-  [PEP-8 참고 문서](https://peps.python.org/pep-0008/)\n",
    "1. 변수명은 직관적이어야 한다.\n",
    "2. 공백 4칸을 사용하여 코드 블록을 들여써야 한다.\n",
    "3. 한 줄의 길이는 79자로 제한하고, 길어질 경우 줄 바꿈을 사용한다.\n",
    "4. 문자와 언더바(_)를 사용하여 함수, 변수, 속성의 이름을 작성한다.\n",
    "5. 함수와 클래스 정의의 블록 사이에는 빈 줄을 추가한다."
   ]
  },
  {
   "cell_type": "markdown",
   "id": "2528f00f-0c84-4c7f-83fe-c420e38acba4",
   "metadata": {},
   "source": [
    "## 6. Python Tutor"
   ]
  },
  {
   "cell_type": "markdown",
   "id": "16f372f4-a2b3-4e84-b383-5a735de7a5b1",
   "metadata": {},
   "source": [
    "### [Python Tutor](https://pythontutor.com/)\n",
    "파이썬 프로그램 실행 과정 시각화 도우미"
   ]
  },
  {
   "cell_type": "markdown",
   "id": "16250724-f6d3-4507-a555-b820424434ef",
   "metadata": {},
   "source": [
    "## 7. 주석"
   ]
  },
  {
   "cell_type": "markdown",
   "id": "f7853cdc-662f-4d4b-9d95-9ec301ed5d83",
   "metadata": {},
   "source": [
    "### 주석(Comment)\n",
    "인터프리터에 의해 실행되지 않는, 프로그램 코드에 대한 설명 및 메모\n",
    "\n",
    "#### 주석의 목적\n",
    "1. 코드 설명 및 임시 비활성화\n",
    "2. 코드의 문서화\n",
    "3. 타 개발자들을 위한 지침서\n",
    "\n",
    "#### 주석 사용 방법\n",
    "```python\n",
    "# 이것은 실행되지 않는 주석이다.\n",
    "'''\n",
    "여러 줄 주석은\n",
    "이렇게 사용한다.\n",
    "'''\n",
    "\n",
    "\"\"\"\n",
    "큰 따옴표도 마찬가지로\n",
    "주석을 위해 사용 가능하다.\n",
    "\"\"\"\n",
    "```"
   ]
  },
  {
   "cell_type": "markdown",
   "id": "8697aeb5-c794-44fc-9381-75d89f964d5c",
   "metadata": {},
   "source": [
    "### + 새롭게 알게 된 내용\n",
    "\n",
    "- 애초에 배울 때 파이썬 인터프리터를 사용하여 코드를 작성하면서 배웠지만, 정작 파이썬 인터프리터가 어떤 것을 위해 사용되는지, 어떠한 장점이 있는 지 등을 모르고 썼었다. 이번에 배운 내용을 통해 전체 코드를 한 번에 작성하여 이를 번역해주는 역할에 대한 고마움을 느낄 수 있었다.\n",
    "- 한 줄 한 줄 작성되는 코드가 어떤 식으로 해석되고 이에 대한 결과값을 내는지 자세하게 알지 못했다. 특히, 할당문을 사용했을 때 내부적으로 어떠한 과정이 시행되는지 알게 되었다. 파이썬이 왜 객체지향형 프로그래밍 언어인지, 변수에 값을 할당할 때 메모리 공간과 어떠한 관계를 가지는 지 등을 알 수 있었고, 변수를 복사하는 과정에서 주의해야 될 내용을 생각 해 볼 수 있었다.\n",
    "- 기존에는 자연스럽게 tab을 사용하여 들여쓰기를 했는데, 사실 이건 VScode가 자동으로 처리해 주는 것이라는 것을 알게 되었다. 그래서 처음으로 스타트 캠프 과제를 풀 때 들여쓰기를 tab과 space * 4를 섞어 쓰면 안된다는 것을 알게 되었다. 파이썬 가이드에 따르면, tab을 사용하는 것 보다 space를 네 번 누르는 것으로 통일하는 것이 더 낫다고 한다. 이에 대한 습관을 길러야 겠다."
   ]
  }
 ],
 "metadata": {
  "kernelspec": {
   "display_name": "Python 3 (ipykernel)",
   "language": "python",
   "name": "python3"
  },
  "language_info": {
   "codemirror_mode": {
    "name": "ipython",
    "version": 3
   },
   "file_extension": ".py",
   "mimetype": "text/x-python",
   "name": "python",
   "nbconvert_exporter": "python",
   "pygments_lexer": "ipython3",
   "version": "3.9.13"
  }
 },
 "nbformat": 4,
 "nbformat_minor": 5
}
