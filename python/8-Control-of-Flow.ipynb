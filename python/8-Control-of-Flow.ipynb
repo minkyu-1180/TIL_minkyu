{
 "cells": [
  {
   "cell_type": "markdown",
   "id": "1bfa5439-25ce-4ac9-82e2-a45d051530a4",
   "metadata": {},
   "source": [
    "# 8. Control of Flow"
   ]
  },
  {
   "cell_type": "markdown",
   "id": "c168ce61-e6e9-481d-ae5f-969e775a9a2b",
   "metadata": {},
   "source": [
    "## 1. 제어문"
   ]
  },
  {
   "cell_type": "markdown",
   "id": "07809f8a-7512-4303-a392-2a759f7795e5",
   "metadata": {},
   "source": [
    "### 제어문(Control Statement)\n",
    "코드의 실행 흐름 제어에 사용되는 구문\n",
    "조건에 따라 코드 블록을 실행하거나 반복적으로 코드 실행\n",
    "\n",
    "#### 제어문의 종류\n",
    "1. 조건문\n",
    "2. 반복문"
   ]
  },
  {
   "cell_type": "markdown",
   "id": "981b0788-e698-4bd3-ae7d-8050ce3c2f0d",
   "metadata": {},
   "source": [
    "## 2. 조건문"
   ]
  },
  {
   "cell_type": "markdown",
   "id": "bfb5a81c-351f-4b08-aff7-565d161f85a6",
   "metadata": {},
   "source": [
    "### 조건문(Conditional Statement)\n",
    "주어진 조건문을 평가하여 해당 조건이 True인 경우에만 코드 블록을 실행하거나 건너뜀\n",
    "\n",
    "#### 조건문의 키워드 \n",
    "if / elif / else\n",
    "\n",
    "#### if statement\n",
    "if statement의 기본 구조\n",
    "\n",
    "```python\n",
    "if expression_1:\n",
    "    # code_block_1\n",
    "elif expression_2:\n",
    "    # code_block_2\n",
    "else: # not (expression_1 and expression_2)\n",
    "    # code_block_3\n",
    "```\n",
    "\n",
    "#### 복수 조건문\n",
    "조건식을 순차적으로 비교하며 검사\n",
    "- if - elif - elif - ..... - else로 연결됨\n",
    "\n",
    "#### 중첩 조건문\n",
    "조건식 안에 조건식이 있는 것"
   ]
  },
  {
   "cell_type": "code",
   "execution_count": 3,
   "id": "f010f535-4f10-420e-b3a1-61019cbc7270",
   "metadata": {},
   "outputs": [
    {
     "name": "stdout",
     "output_type": "stream",
     "text": [
      "당신은 장학금을 받을 조건이 됩니다.\n",
      "\n"
     ]
    },
    {
     "name": "stdin",
     "output_type": "stream",
     "text": [
      "당신의 점수를 입력하시오. : 90\n"
     ]
    },
    {
     "name": "stdout",
     "output_type": "stream",
     "text": [
      "당신의 성적은 B입니다.\n",
      "\n",
      "당신은 장학금을 받을 조건이 되었습니다.\n"
     ]
    }
   ],
   "source": [
    "# 조건문 예제\n",
    "score = 90\n",
    "if score > 85:\n",
    "    print('당신은 장학금을 받을 조건이 됩니다.')\n",
    "print()\n",
    "\n",
    "# 복수 조건문 예제\n",
    "score_2 = int(input(\"당신의 점수를 입력하시오. :\"))\n",
    "\n",
    "if score_2 >= 95:\n",
    "    print(\"당신의 성적은 A입니다.\")\n",
    "elif score_2 >= 85:\n",
    "    print(\"당신의 성적은 B입니다.\")\n",
    "elif score_2 >= 75:\n",
    "    print(\"당신의 성적은 C입니다.\")\n",
    "else:\n",
    "    print(\"당신은 불합격입니다.\")\n",
    "print()\n",
    "# 중첩 조건문\n",
    "score_3 = 100\n",
    "attendance_rate = 100\n",
    "\n",
    "if score_3 >= 95:\n",
    "    if attendance_rate >= 90:\n",
    "        print(\"당신은 장학금을 받을 조건이 되었습니다.\")\n",
    "    else:\n",
    "        print(\"출석률을 높여서 다음 기회엔 장학금을 받아보세요!\")\n",
    "else:\n",
    "    print(\"당신의 성적을 높여서 장학금을 탈 기회를 얻으세요!\")"
   ]
  },
  {
   "cell_type": "markdown",
   "id": "fe974992-f489-403c-97b9-db4236fa94f8",
   "metadata": {},
   "source": [
    "## 3. 반복문"
   ]
  },
  {
   "cell_type": "markdown",
   "id": "401cd408-2b8b-4808-aa6c-e8ca1fdbe076",
   "metadata": {},
   "source": [
    "### 반복문(Loop Statement)\n",
    "주어진 코드 블록을 여러 번 반복해서 실행하는 구문\n",
    "\n",
    "#### 반복문에 사용되는 키워드\n",
    "for / while\n",
    "#### 반복문의 종류\n",
    "1. 특정 작업을 반복적으로 수행(for)\n",
    "2. 주어진 조건이 참인 동안 반복해서 실행(while)"
   ]
  },
  {
   "cell_type": "markdown",
   "id": "bfcf7010-dbca-4b56-8833-1dbe64cc5e59",
   "metadata": {},
   "source": [
    "### for statement\n",
    "임의의 반복 가능한 객체(iterable)들을 순회하며 실행문을 반복적으로 실행\n",
    "- sequence, dict, set 등\n",
    "```python\n",
    "for var in iterable:\n",
    "    # code_block\n",
    "```\n",
    "\n",
    "#### 중첩 반복문\n",
    "안쪽 반복문(inner)을 바깥쪽 반복문(outer)의 각 요소에 대해 한 번씩 실행하고, 이 루프를 outer의 모든 요소에 반복적으로 실행"
   ]
  },
  {
   "cell_type": "code",
   "execution_count": 5,
   "id": "e03ac49e-9733-400a-b4dd-8753f71eba0f",
   "metadata": {},
   "outputs": [
    {
     "name": "stdout",
     "output_type": "stream",
     "text": [
      "M\n",
      "i\n",
      "n\n",
      "k\n",
      "y\n",
      "u\n",
      "\n",
      "Kim\n",
      "min\n",
      "kyu\n",
      "\n",
      "0\n",
      "1\n",
      "2\n",
      "\n",
      "0\n",
      "1\n",
      "2\n",
      "3\n",
      "4\n",
      "\n",
      "A : a\n",
      "A : b\n",
      "A : c\n",
      "A : d\n",
      "B : a\n",
      "B : b\n",
      "B : c\n",
      "B : d\n",
      "Hello\n",
      "Python\n",
      "I am\n",
      "Minkyu\n"
     ]
    }
   ],
   "source": [
    "# for statement 예시\n",
    "\n",
    "# 문자열 순회\n",
    "name = \"Minkyu\"\n",
    "for char in name:\n",
    "    print(char)\n",
    "print()\n",
    "\n",
    "# 리스트 순회\n",
    "my_list = ['Kim', 'min', 'kyu']\n",
    "for ele in my_list:\n",
    "    print(ele)\n",
    "print()\n",
    "\n",
    "# range 순회\n",
    "for i in range(3):\n",
    "    print(i)\n",
    "print()\n",
    "\n",
    "# 인덱스로 순회\n",
    "numbers = [12, 24, 36, 48, 60]\n",
    "for i in range(len(numbers)):\n",
    "    print(i)\n",
    "print()\n",
    "\n",
    "# 중첩 반복문\n",
    "outers = ['A', 'B']\n",
    "inners = ['a', 'b', 'c', 'd']\n",
    "for outer in outers:\n",
    "    for inner in inners:\n",
    "        print(f'{outer} : {inner}')\n",
    "print()\n",
    "# 중첩 리스트\n",
    "my_double_list = [['Hello','Python'], ['I am', 'Minkyu']]\n",
    "\n",
    "for lst in my_double_list:\n",
    "    for ele in lst:\n",
    "        print(ele)"
   ]
  },
  {
   "cell_type": "markdown",
   "id": "bfac1752-0e7b-4e3b-ac38-2170466e2c3a",
   "metadata": {},
   "source": [
    "### while statement"
   ]
  },
  {
   "cell_type": "markdown",
   "id": "a4aeec81-a906-4b2a-b543-91fb709c7340",
   "metadata": {},
   "source": []
  },
  {
   "cell_type": "markdown",
   "id": "a5cddddb-8ae9-493f-9736-602e5c9a270c",
   "metadata": {},
   "source": []
  },
  {
   "cell_type": "markdown",
   "id": "b2e329d8-3173-42b5-acbd-29ba6b6fe0a5",
   "metadata": {},
   "source": []
  },
  {
   "cell_type": "markdown",
   "id": "b5f46e72-bd45-48b9-a88c-c588ba0d11c9",
   "metadata": {},
   "source": []
  },
  {
   "cell_type": "markdown",
   "id": "c46e17b1-497a-4044-815f-a04ee9a52487",
   "metadata": {},
   "source": []
  },
  {
   "cell_type": "markdown",
   "id": "5482f6ad-1cdd-4fa5-952a-5356685b2625",
   "metadata": {},
   "source": []
  },
  {
   "cell_type": "markdown",
   "id": "c17ad9d0-571f-4f11-9d03-9c247f6860e5",
   "metadata": {},
   "source": []
  },
  {
   "cell_type": "markdown",
   "id": "4fbe56d7-87d7-4908-bdae-40898fd3fc69",
   "metadata": {},
   "source": []
  },
  {
   "cell_type": "markdown",
   "id": "4b78e4ad-6746-400f-b78d-f8f86395a8ec",
   "metadata": {},
   "source": []
  },
  {
   "cell_type": "markdown",
   "id": "d3214bfa-816c-4576-8163-010f6fda27a9",
   "metadata": {},
   "source": []
  },
  {
   "cell_type": "markdown",
   "id": "0fab8cfc-6aaa-4f87-a1cf-e293e0573861",
   "metadata": {},
   "source": []
  },
  {
   "cell_type": "markdown",
   "id": "f858f23d-3ef5-41cc-8176-52ad50da808f",
   "metadata": {},
   "source": []
  }
 ],
 "metadata": {
  "kernelspec": {
   "display_name": "Python 3 (ipykernel)",
   "language": "python",
   "name": "python3"
  },
  "language_info": {
   "codemirror_mode": {
    "name": "ipython",
    "version": 3
   },
   "file_extension": ".py",
   "mimetype": "text/x-python",
   "name": "python",
   "nbconvert_exporter": "python",
   "pygments_lexer": "ipython3",
   "version": "3.9.13"
  }
 },
 "nbformat": 4,
 "nbformat_minor": 5
}
