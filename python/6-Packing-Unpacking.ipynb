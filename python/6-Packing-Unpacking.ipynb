{
 "cells": [
  {
   "cell_type": "markdown",
   "id": "d744a4d1-80d6-4b23-bba1-1965ee400b00",
   "metadata": {},
   "source": [
    "# 6. Packing & Unpacking"
   ]
  },
  {
   "cell_type": "markdown",
   "id": "57e25921-4497-498d-8c0d-4a0c045125ad",
   "metadata": {},
   "source": [
    "## 1. Packing & Unpacking"
   ]
  },
  {
   "cell_type": "markdown",
   "id": "8402148d-e52e-48f9-a678-9ce5b273b704",
   "metadata": {},
   "source": [
    "### Packing\n",
    "여러 값을 하나의 변수에 묶어서 담는 것\n",
    "\n",
    "#### packing 방법\n",
    "1. 튜플 형태로 묶는 방법\n",
    "```python\n",
    "packed = 1, 2, 3, 4, 5 # packed라는 변수에 여러 값 1, 2, 3, 4, 5를 튜플로 묶어 할당\n",
    "```\n",
    "2. 리스트 형태로 묶는 방법(*)\n",
    "```python\n",
    "numbers = [1, 2, 3, 4, 5]\n",
    "a, *b, c = numbers # a와 c에 요소 하나씩 할당 후 남은 요소들을 리스트로 묶어서 b에 할당\n",
    "```\n",
    "\n",
    "#### print()\n",
    "print 함수에 임의의 가변 인자를 작성할 수 있었던 이유??\n",
    "![image](https://github.com/ragu6963/TIL/assets/32388270/05db04bd-d01c-4f4c-a193-854e59385d67)\n",
    "- print(*objects, sep = ' ', end = '\\n', file = sts.stdout, flush = False)\n",
    "- 인자의 개수를 랜덤으로 받을 수 있게 매개변수 objects 앞에 *를 붙였다\n",
    "- sep 조건에 디폴트로 ' '이 들어가서 따로 조건을 부여하지 않으면 여러 인자들을 알아서 띄워서 출력한다.\n",
    "- print()문이 끝나면 end 조건에 의해 엔터키가 실행된다\n",
    "\n",
    "### Unpacking\n",
    "패킹된 변수의 요소들을 개별적인 요소로 분리하여 변수에 할당하는 것\n",
    "\n",
    "#### Unpacking 방법\n",
    "1. 패킹된 객체의 요소들을 개별 변수에 할당\n",
    "```python\n",
    "packed = 1, 2, 3, 4, 5 # 튜플로 묶어주는 패킹\n",
    "a, b, c, d, e = packed # 언패킹 실시\n",
    "```\n",
    "2. 리스트의 요소 언패킹(*)\n",
    "```python\n",
    "names = ['kim', 'min', 'kyu']\n",
    "print(*names) # 리스트 names의 요소들을 언패킹\n",
    "```\n",
    "3. 딕셔너리의 키-값 쌍을 함수의 키워드 인자로 언패킹\n",
    "```python\n",
    "def unpacking(x, y, z):\n",
    "    print(x, y, z)\n",
    "my_dict = {'x' : 1, 'y' : 2, 'z' : 3}\n",
    "unpacking(**my_dict) # unpacking('x' = 1, 'y' = 2, 'z' = 3) : 딕셔너리의 키-값 쌍을 키워드 인자로 활용하여 언패킹\n",
    "```"
   ]
  },
  {
   "cell_type": "markdown",
   "id": "1bafc6d7-8296-40b7-8366-6f67509a112c",
   "metadata": {},
   "source": [
    "## + 새롭게 알게 된 부분\n",
    "- 패킹과 언패킹은 과거 튜플을 공부할 때 어느정도 알고 있었다. 하지만 print()함수에서도 패킹 과정이 일어난다는 것은 처음 알게 되었다. 우리가 파이썬 프로그래밍을 하면서 가장 많이 쓰는 것이 print()일텐데, 이를 함수라고 인지하지 못하는 경우가 많다. 내장함수로서 키워드 인자들이 어떤식으로 적용되어있기 때문에 우리가 print()함수를 쓰면 자연스럽게 여러 인자들이 띄워서 출력되고, 다음 명령문을 실행하면 엔터가 자동으로 되는지 등 우리도 모르게 사용하고 있던 print()에 대해 알 수 있었다.\n",
    "- 언패킹은 패킹 되어있는 것을 역으로 풀어주는 역할인데, 이것이 리스트와 딕셔너리 데이터 구조에서도 사용되는지 몰랐다. "
   ]
  }
 ],
 "metadata": {
  "kernelspec": {
   "display_name": "Python 3 (ipykernel)",
   "language": "python",
   "name": "python3"
  },
  "language_info": {
   "codemirror_mode": {
    "name": "ipython",
    "version": 3
   },
   "file_extension": ".py",
   "mimetype": "text/x-python",
   "name": "python",
   "nbconvert_exporter": "python",
   "pygments_lexer": "ipython3",
   "version": "3.9.13"
  }
 },
 "nbformat": 4,
 "nbformat_minor": 5
}
